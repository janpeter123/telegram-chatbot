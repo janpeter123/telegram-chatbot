{
  "nbformat": 4,
  "nbformat_minor": 0,
  "metadata": {
    "colab": {
      "name": "DecisionTreeFord.ipynb",
      "provenance": [],
      "collapsed_sections": []
    },
    "kernelspec": {
      "display_name": "Python 3",
      "name": "python3"
    },
    "language_info": {
      "name": "python"
    }
  },
  "cells": [
    {
      "cell_type": "markdown",
      "metadata": {
        "id": "jm3xYq_YEQca"
      },
      "source": [
        "Criador: Jan Peter Merkel RM 81896 <br>\n",
        "Faculdade: FIAP <br>\n",
        "Grupo: Guardian <br>"
      ]
    },
    {
      "cell_type": "markdown",
      "metadata": {
        "id": "IYLff6o5DwFb"
      },
      "source": [
        "# Importando as bibliotecas"
      ]
    },
    {
      "cell_type": "code",
      "metadata": {
        "id": "gydaW9ms13UO"
      },
      "source": [
        "import numpy as np\n",
        "import pandas as pd\n",
        "import matplotlib.pyplot as plt"
      ],
      "execution_count": null,
      "outputs": []
    },
    {
      "cell_type": "markdown",
      "metadata": {
        "id": "qGq-tDj5D63M"
      },
      "source": [
        "# O que a I.A Faz?\n",
        "A I.A Determina as peças a serem trocadas e o preço médio da revisão de acordo com a Quilometragem obtida na leitura."
      ]
    },
    {
      "cell_type": "markdown",
      "metadata": {
        "id": "oa1JkefpD0qb"
      },
      "source": [
        "# Importando o Dataset"
      ]
    },
    {
      "cell_type": "markdown",
      "metadata": {
        "id": "sxkMZ9nNDuc4"
      },
      "source": [
        "## O Dataset foi criado por nós com base no Manual do Usuário da Ford Ranger."
      ]
    },
    {
      "cell_type": "code",
      "metadata": {
        "id": "7fU1WFOh2BhV"
      },
      "source": [
        "data = pd.read_csv('./ford.csv',sep=';')"
      ],
      "execution_count": null,
      "outputs": []
    },
    {
      "cell_type": "code",
      "metadata": {
        "id": "iqzj-vlE2FZ6"
      },
      "source": [
        "data = data.iloc[:30,:]"
      ],
      "execution_count": null,
      "outputs": []
    },
    {
      "cell_type": "code",
      "metadata": {
        "id": "h9r8LkIgN0bJ"
      },
      "source": [
        "data.KM = data.KM*1000"
      ],
      "execution_count": null,
      "outputs": []
    },
    {
      "cell_type": "markdown",
      "metadata": {
        "id": "ylGhEdlTD6RR"
      },
      "source": [
        "# Verificando o Dataset"
      ]
    },
    {
      "cell_type": "markdown",
      "metadata": {
        "id": "5MCfMKkqG240"
      },
      "source": [
        "## Dicionario de dados:\n",
        "A coluna **Ranger**: Cada número corresponde a um modelo da Ford Ranger descrito no manual de revisão<br>\n",
        "Os modelos são respectivamente:\n",
        " - Ranger 2.2L\n",
        " - Ranger 2.5L\n",
        " - Ranger 3.2L\n",
        "\n",
        "#### **0** - Não precisa trocar a peça\n",
        "#### **1** - Precisa trocar a peça\n",
        "\n",
        "Os dados foram obtidos em:\n",
        "https://www.ford.com.br/servico-ao-cliente/revisao-preco-fixo/ranger/#"
      ]
    },
    {
      "cell_type": "code",
      "metadata": {
        "colab": {
          "base_uri": "https://localhost:8080/",
          "height": 224
        },
        "id": "69dkBR9E3U6b",
        "outputId": "5d101fd2-e3a4-42e6-8dd2-889a6864b095"
      },
      "source": [
        "data.head()"
      ],
      "execution_count": null,
      "outputs": [
        {
          "output_type": "execute_result",
          "data": {
            "text/html": [
              "<div>\n",
              "<style scoped>\n",
              "    .dataframe tbody tr th:only-of-type {\n",
              "        vertical-align: middle;\n",
              "    }\n",
              "\n",
              "    .dataframe tbody tr th {\n",
              "        vertical-align: top;\n",
              "    }\n",
              "\n",
              "    .dataframe thead th {\n",
              "        text-align: right;\n",
              "    }\n",
              "</style>\n",
              "<table border=\"1\" class=\"dataframe\">\n",
              "  <thead>\n",
              "    <tr style=\"text-align: right;\">\n",
              "      <th></th>\n",
              "      <th>Ranger</th>\n",
              "      <th>KM</th>\n",
              "      <th>oleo_do_motor</th>\n",
              "      <th>filtro_de_oleo_do_motor</th>\n",
              "      <th>filtro_de_combustivel</th>\n",
              "      <th>filtro_de_polen_da_caixa_de_ventilacao</th>\n",
              "      <th>filtro_de_ar_do_motor</th>\n",
              "      <th>Valor</th>\n",
              "    </tr>\n",
              "  </thead>\n",
              "  <tbody>\n",
              "    <tr>\n",
              "      <th>0</th>\n",
              "      <td>1</td>\n",
              "      <td>10000.0</td>\n",
              "      <td>1</td>\n",
              "      <td>1</td>\n",
              "      <td>1</td>\n",
              "      <td>0</td>\n",
              "      <td>0</td>\n",
              "      <td>999</td>\n",
              "    </tr>\n",
              "    <tr>\n",
              "      <th>1</th>\n",
              "      <td>2</td>\n",
              "      <td>10000.0</td>\n",
              "      <td>1</td>\n",
              "      <td>1</td>\n",
              "      <td>1</td>\n",
              "      <td>0</td>\n",
              "      <td>0</td>\n",
              "      <td>839</td>\n",
              "    </tr>\n",
              "    <tr>\n",
              "      <th>2</th>\n",
              "      <td>3</td>\n",
              "      <td>10000.0</td>\n",
              "      <td>1</td>\n",
              "      <td>1</td>\n",
              "      <td>1</td>\n",
              "      <td>0</td>\n",
              "      <td>0</td>\n",
              "      <td>1019</td>\n",
              "    </tr>\n",
              "    <tr>\n",
              "      <th>3</th>\n",
              "      <td>1</td>\n",
              "      <td>20000.0</td>\n",
              "      <td>1</td>\n",
              "      <td>1</td>\n",
              "      <td>1</td>\n",
              "      <td>0</td>\n",
              "      <td>0</td>\n",
              "      <td>999</td>\n",
              "    </tr>\n",
              "    <tr>\n",
              "      <th>4</th>\n",
              "      <td>2</td>\n",
              "      <td>20000.0</td>\n",
              "      <td>1</td>\n",
              "      <td>1</td>\n",
              "      <td>1</td>\n",
              "      <td>0</td>\n",
              "      <td>0</td>\n",
              "      <td>839</td>\n",
              "    </tr>\n",
              "  </tbody>\n",
              "</table>\n",
              "</div>"
            ],
            "text/plain": [
              "   Ranger       KM  ...   filtro_de_ar_do_motor  Valor\n",
              "0       1  10000.0  ...                       0    999\n",
              "1       2  10000.0  ...                       0    839\n",
              "2       3  10000.0  ...                       0   1019\n",
              "3       1  20000.0  ...                       0    999\n",
              "4       2  20000.0  ...                       0    839\n",
              "\n",
              "[5 rows x 8 columns]"
            ]
          },
          "metadata": {},
          "execution_count": 7
        }
      ]
    },
    {
      "cell_type": "markdown",
      "metadata": {
        "id": "OZDzh0LDD_vc"
      },
      "source": [
        "# Definindo a variavel dependente e independente"
      ]
    },
    {
      "cell_type": "code",
      "metadata": {
        "id": "U-8Q_LbI2GPL"
      },
      "source": [
        "x = data.iloc[:,:2].values"
      ],
      "execution_count": null,
      "outputs": []
    },
    {
      "cell_type": "code",
      "metadata": {
        "id": "pw-aa7WR2wfK"
      },
      "source": [
        "y = data.iloc[:,2:].values"
      ],
      "execution_count": null,
      "outputs": []
    },
    {
      "cell_type": "code",
      "metadata": {
        "id": "Bll2aRO64_y7"
      },
      "source": [
        "# from sklearn.model_selection import train_test_split\n",
        "# x_train, x_test, y_train, y_test = train_test_split(x,y,test_size=0.15)\n",
        "\n",
        "#Como temos amostras pequenas de dados criaremos um modelo utilizando todas as amostras disponíveis PROPOSITALMENTE, para o modelo seguir\n",
        "# a tabela de regras da ford de forma rigida"
      ],
      "execution_count": null,
      "outputs": []
    },
    {
      "cell_type": "markdown",
      "metadata": {
        "id": "SIsMgbzCEEsC"
      },
      "source": [
        "# Importando o Modelo de Árvore de Decisão"
      ]
    },
    {
      "cell_type": "code",
      "metadata": {
        "id": "ICCnAYPe24rU"
      },
      "source": [
        "# from sklearn.datasets import make_multilabel_classification\n",
        "from sklearn.tree import DecisionTreeRegressor\n",
        "classifier = DecisionTreeRegressor().fit(x,y)"
      ],
      "execution_count": null,
      "outputs": []
    },
    {
      "cell_type": "markdown",
      "metadata": {
        "id": "yFcoa-VbMyxn"
      },
      "source": [
        "### Definindo o dataset de testes"
      ]
    },
    {
      "cell_type": "code",
      "metadata": {
        "id": "0Vebt2At-bRR"
      },
      "source": [
        "y_test = [[1,14000],[2,12000],[3,100000],[1,32000],[2,36000],[3,33000],[1,53000],[2,57000],[3,50000]]\n",
        "y_pred = classifier.predict(y_test)"
      ],
      "execution_count": null,
      "outputs": []
    },
    {
      "cell_type": "markdown",
      "metadata": {
        "id": "Iz-Z3X7sEXBh"
      },
      "source": [
        "# Predição do conjunto de testes para verificar se o modelo está predizendo de acordo com as regras"
      ]
    },
    {
      "cell_type": "code",
      "metadata": {
        "colab": {
          "base_uri": "https://localhost:8080/"
        },
        "id": "jKfX0hIkDkly",
        "outputId": "1bdc80bb-a4a2-408e-8780-e3d5ab54dd35"
      },
      "source": [
        "print(f'R$ {y_pred[0][-1]}')\n",
        "print(f'R$ {y_pred[1][-1]}')\n",
        "print(f'R$ {y_pred[2][-1]}')\n",
        "print(f'R$ {y_pred[3][-1]}')\n",
        "print(f'R$ {y_pred[4][-1]}')\n",
        "print(f'R$ {y_pred[5][-1]}')\n",
        "print(f'R$ {y_pred[6][-1]}')\n",
        "print(f'R$ {y_pred[7][-1]}')\n",
        "print(f'R$ {y_pred[8][-1]}')"
      ],
      "execution_count": null,
      "outputs": [
        {
          "output_type": "stream",
          "name": "stdout",
          "text": [
            "R$ 999.0\n",
            "R$ 839.0\n",
            "R$ 1119.0\n",
            "R$ 1359.0\n",
            "R$ 929.0\n",
            "R$ 1519.0\n",
            "R$ 1149.0\n",
            "R$ 2019.0\n",
            "R$ 1119.0\n"
          ]
        }
      ]
    },
    {
      "cell_type": "markdown",
      "metadata": {
        "id": "lVF57NsKMXe0"
      },
      "source": [
        "# Predição completa do modelo"
      ]
    },
    {
      "cell_type": "code",
      "metadata": {
        "colab": {
          "base_uri": "https://localhost:8080/"
        },
        "id": "095m0TwaLyJ1",
        "outputId": "28f27648-42e2-4d76-aec3-8f417060ff7e"
      },
      "source": [
        "y_pred"
      ],
      "execution_count": null,
      "outputs": [
        {
          "output_type": "execute_result",
          "data": {
            "text/plain": [
              "array([[1.000e+00, 1.000e+00, 1.000e+00, 0.000e+00, 0.000e+00, 9.990e+02],\n",
              "       [1.000e+00, 1.000e+00, 1.000e+00, 0.000e+00, 0.000e+00, 8.390e+02],\n",
              "       [1.000e+00, 1.000e+00, 1.000e+00, 0.000e+00, 0.000e+00, 1.119e+03],\n",
              "       [1.000e+00, 1.000e+00, 1.000e+00, 1.000e+00, 1.000e+00, 1.359e+03],\n",
              "       [1.000e+00, 1.000e+00, 1.000e+00, 0.000e+00, 0.000e+00, 9.290e+02],\n",
              "       [1.000e+00, 1.000e+00, 1.000e+00, 1.000e+00, 1.000e+00, 1.519e+03],\n",
              "       [1.000e+00, 1.000e+00, 1.000e+00, 0.000e+00, 0.000e+00, 1.149e+03],\n",
              "       [1.000e+00, 1.000e+00, 1.000e+00, 1.000e+00, 1.000e+00, 2.019e+03],\n",
              "       [1.000e+00, 1.000e+00, 1.000e+00, 0.000e+00, 0.000e+00, 1.119e+03]])"
            ]
          },
          "metadata": {},
          "execution_count": 12
        }
      ]
    },
    {
      "cell_type": "code",
      "metadata": {
        "id": "-JeBQmaBgl2V",
        "colab": {
          "base_uri": "https://localhost:8080/"
        },
        "outputId": "ce678b7f-226a-4f27-8b6c-942cfacb3011"
      },
      "source": [
        "data.columns"
      ],
      "execution_count": null,
      "outputs": [
        {
          "output_type": "execute_result",
          "data": {
            "text/plain": [
              "Index(['Ranger', 'KM', 'oleo_do_motor', 'filtro_de_oleo_do_motor',\n",
              "       'filtro_de_combustivel', ' filtro_de_polen_da_caixa_de_ventilacao',\n",
              "       ' filtro_de_ar_do_motor', 'Valor'],\n",
              "      dtype='object')"
            ]
          },
          "metadata": {},
          "execution_count": 15
        }
      ]
    },
    {
      "cell_type": "code",
      "metadata": {
        "colab": {
          "base_uri": "https://localhost:8080/",
          "height": 224
        },
        "id": "MQQPi-t5hZIk",
        "outputId": "62bc4344-4fc0-425d-9324-14119f00884b"
      },
      "source": [
        "data.head()"
      ],
      "execution_count": null,
      "outputs": [
        {
          "output_type": "execute_result",
          "data": {
            "text/html": [
              "<div>\n",
              "<style scoped>\n",
              "    .dataframe tbody tr th:only-of-type {\n",
              "        vertical-align: middle;\n",
              "    }\n",
              "\n",
              "    .dataframe tbody tr th {\n",
              "        vertical-align: top;\n",
              "    }\n",
              "\n",
              "    .dataframe thead th {\n",
              "        text-align: right;\n",
              "    }\n",
              "</style>\n",
              "<table border=\"1\" class=\"dataframe\">\n",
              "  <thead>\n",
              "    <tr style=\"text-align: right;\">\n",
              "      <th></th>\n",
              "      <th>Ranger</th>\n",
              "      <th>KM</th>\n",
              "      <th>oleo_do_motor</th>\n",
              "      <th>filtro_de_oleo_do_motor</th>\n",
              "      <th>filtro_de_combustivel</th>\n",
              "      <th>filtro_de_polen_da_caixa_de_ventilacao</th>\n",
              "      <th>filtro_de_ar_do_motor</th>\n",
              "      <th>Valor</th>\n",
              "    </tr>\n",
              "  </thead>\n",
              "  <tbody>\n",
              "    <tr>\n",
              "      <th>0</th>\n",
              "      <td>1</td>\n",
              "      <td>10000.0</td>\n",
              "      <td>1</td>\n",
              "      <td>1</td>\n",
              "      <td>1</td>\n",
              "      <td>0</td>\n",
              "      <td>0</td>\n",
              "      <td>999</td>\n",
              "    </tr>\n",
              "    <tr>\n",
              "      <th>1</th>\n",
              "      <td>2</td>\n",
              "      <td>10000.0</td>\n",
              "      <td>1</td>\n",
              "      <td>1</td>\n",
              "      <td>1</td>\n",
              "      <td>0</td>\n",
              "      <td>0</td>\n",
              "      <td>839</td>\n",
              "    </tr>\n",
              "    <tr>\n",
              "      <th>2</th>\n",
              "      <td>3</td>\n",
              "      <td>10000.0</td>\n",
              "      <td>1</td>\n",
              "      <td>1</td>\n",
              "      <td>1</td>\n",
              "      <td>0</td>\n",
              "      <td>0</td>\n",
              "      <td>1019</td>\n",
              "    </tr>\n",
              "    <tr>\n",
              "      <th>3</th>\n",
              "      <td>1</td>\n",
              "      <td>20000.0</td>\n",
              "      <td>1</td>\n",
              "      <td>1</td>\n",
              "      <td>1</td>\n",
              "      <td>0</td>\n",
              "      <td>0</td>\n",
              "      <td>999</td>\n",
              "    </tr>\n",
              "    <tr>\n",
              "      <th>4</th>\n",
              "      <td>2</td>\n",
              "      <td>20000.0</td>\n",
              "      <td>1</td>\n",
              "      <td>1</td>\n",
              "      <td>1</td>\n",
              "      <td>0</td>\n",
              "      <td>0</td>\n",
              "      <td>839</td>\n",
              "    </tr>\n",
              "  </tbody>\n",
              "</table>\n",
              "</div>"
            ],
            "text/plain": [
              "   Ranger       KM  ...   filtro_de_ar_do_motor  Valor\n",
              "0       1  10000.0  ...                       0    999\n",
              "1       2  10000.0  ...                       0    839\n",
              "2       3  10000.0  ...                       0   1019\n",
              "3       1  20000.0  ...                       0    999\n",
              "4       2  20000.0  ...                       0    839\n",
              "\n",
              "[5 rows x 8 columns]"
            ]
          },
          "metadata": {},
          "execution_count": 16
        }
      ]
    },
    {
      "cell_type": "markdown",
      "metadata": {
        "id": "EFJo2nWKfyxx"
      },
      "source": [
        "## Salvando o modelo de IA"
      ]
    },
    {
      "cell_type": "code",
      "metadata": {
        "id": "Jv95NWA6Bj7X"
      },
      "source": [
        "import pickle"
      ],
      "execution_count": null,
      "outputs": []
    },
    {
      "cell_type": "code",
      "metadata": {
        "id": "gEYvDcjIBtzp"
      },
      "source": [
        "with open('model.pkl', 'wb') as model_file:\n",
        "  pickle.dump(classifier, model_file)"
      ],
      "execution_count": null,
      "outputs": []
    },
    {
      "cell_type": "code",
      "metadata": {
        "id": "Si3lfxWcCCXP"
      },
      "source": [
        ""
      ],
      "execution_count": null,
      "outputs": []
    }
  ]
}